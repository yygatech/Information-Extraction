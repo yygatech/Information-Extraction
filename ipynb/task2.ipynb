{
 "cells": [
  {
   "cell_type": "code",
   "execution_count": 3,
   "metadata": {},
   "outputs": [],
   "source": [
    "# task2.py\n",
    "\n",
    "# function: load corpus\n",
    "# arguments: corpus path\n",
    "# return: corpus loaded as a string\n",
    "def _load_corpus(corpus_path):\n",
    "    # 2 create a corpus\n",
    "    # import corpus\n",
    "#     corpus_path = \"corpus.txt\"\n",
    "    corpus = \"\"\n",
    "    with open(corpus_path, 'r') as f:\n",
    "        for line in f:\n",
    "            corpus += line.replace('\\n', ' ')\n",
    "    # print(corpus)\n",
    "    \n",
    "    return corpus\n",
    "\n",
    "# TEST\n",
    "# corpus = _task2(\"corpus.txt\")\n",
    "# print(\"corpus:\\n\", corpus)"
   ]
  },
  {
   "cell_type": "code",
   "execution_count": null,
   "metadata": {},
   "outputs": [],
   "source": []
  }
 ],
 "metadata": {
  "kernelspec": {
   "display_name": "Python 3",
   "language": "python",
   "name": "python3"
  },
  "language_info": {
   "codemirror_mode": {
    "name": "ipython",
    "version": 3
   },
   "file_extension": ".py",
   "mimetype": "text/x-python",
   "name": "python",
   "nbconvert_exporter": "python",
   "pygments_lexer": "ipython3",
   "version": "3.6.2"
  }
 },
 "nbformat": 4,
 "nbformat_minor": 2
}
