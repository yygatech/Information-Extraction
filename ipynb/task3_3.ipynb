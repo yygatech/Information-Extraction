{
 "cells": [
  {
   "cell_type": "code",
   "execution_count": null,
   "metadata": {},
   "outputs": [],
   "source": [
    "# task3_3.py\n",
    "\n",
    "## 3.3\n",
    "# (this step should be done before 3.2)\n",
    "# part-of-speech (POS) tag the words \n",
    "# to extract lemmas as features\n",
    "# should use word_tokenize before POS tagging\n",
    "\n",
    "\n",
    "def _pos_tag(sentences, words_all):\n",
    "    from nltk import pos_tag as pt\n",
    "\n",
    "    # nltk WordNet Interface:\n",
    "    # http://www.nltk.org/howto/wordnet.html\n",
    "    from nltk.corpus import wordnet as wn\n",
    "\n",
    "    pos_tags_all = [[] for i in range(n_sent)]\n",
    "    tags_all = [\"\" for i in range(n_sent)]\n",
    "\n",
    "    for i, words in enumerate(words_all):\n",
    "        pos_tags = pt(words)\n",
    "        pos_tags_all[i] = pos_tags\n",
    "        tags_all[i] = [pos_tag[1] for pos_tag in pos_tags]\n",
    "        \n",
    "    return pos_tags\n",
    "\n",
    "# Penn Treebank tags to WordNet tags\n",
    "def _penn2wn(penn_tag):\n",
    "    if penn_tag.startswith('J'):\n",
    "        return wn.ADJ\n",
    "    elif penn_tag.startswith('V'):\n",
    "        return wn.VERB\n",
    "    elif penn_tag.startswith('N'):\n",
    "        return wn.NOUN\n",
    "    elif penn_tag.startswith('R'):\n",
    "        return wn.ADV\n",
    "    else:\n",
    "        return ''\n",
    "\n",
    "# WordNet (morphy) tags\n",
    "wn_tags_all = [[] for i in range(n_sent)]\n",
    "for i, tags in enumerate(tags_all):\n",
    "    wn_tags = [wn.NOUN for j in range(len(tags))]\n",
    "    for j, tag in enumerate(tags):\n",
    "        wn_tags[j] = _penn2wn(tag)\n",
    "    wn_tags_all[i] = wn_tags\n",
    "\n",
    "# show pos_tags\n",
    "for i in range(3):\n",
    "    print(\"POS tag pairs:\")\n",
    "    print(pos_tags_all[i])\n",
    "    print(\"POS tags:\")\n",
    "    print(tags_all[i])\n",
    "    print(\"WordNet tags:\")\n",
    "    print(wn_tags_all[i])\n",
    "    print()"
   ]
  }
 ],
 "metadata": {
  "kernelspec": {
   "display_name": "Python 3",
   "language": "python",
   "name": "python3"
  },
  "language_info": {
   "codemirror_mode": {
    "name": "ipython",
    "version": 3
   },
   "file_extension": ".py",
   "mimetype": "text/x-python",
   "name": "python",
   "nbconvert_exporter": "python",
   "pygments_lexer": "ipython3",
   "version": "3.6.2"
  }
 },
 "nbformat": 4,
 "nbformat_minor": 2
}
